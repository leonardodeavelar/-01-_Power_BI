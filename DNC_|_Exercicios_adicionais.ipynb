{
  "nbformat": 4,
  "nbformat_minor": 0,
  "metadata": {
    "colab": {
      "provenance": [],
      "authorship_tag": "ABX9TyNu/Cz54d8yXeTQ6yrnoicq",
      "include_colab_link": true
    },
    "kernelspec": {
      "name": "python3",
      "display_name": "Python 3"
    },
    "language_info": {
      "name": "python"
    }
  },
  "cells": [
    {
      "cell_type": "markdown",
      "metadata": {
        "id": "view-in-github",
        "colab_type": "text"
      },
      "source": [
        "<a href=\"https://colab.research.google.com/github/leonardodeavelar/01_Power_BI/blob/main/DNC_%7C_Exercicios_adicionais.ipynb\" target=\"_parent\"><img src=\"https://colab.research.google.com/assets/colab-badge.svg\" alt=\"Open In Colab\"/></a>"
      ]
    },
    {
      "cell_type": "markdown",
      "source": [
        "EXERCÍCIOS\n",
        "\n",
        "1. Seu primeiro desafio é desenvolver um programa para um depósito de\n",
        "bebidas que valide venda de bebidas para maiores de idade (maior ou\n",
        "igual 18 anos) no mercado, o programa deve receber do usuário os\n",
        "valores do nome e ano que ele nasceu e retornar se ele pode comprar\n",
        "bebidas.\n",
        "\n",
        "2. Esse bimestre na faculdade você precisa tirar nota 8 de média para\n",
        "passar na matéria, desenvolva um script que leia a nota de suas\n",
        "últimas 3 provas, tire a média delas e verifique se você passou.\n",
        "3. A fisioterapeuta que você vai gosta muito de brincar com números, e\n",
        "pediu para você criar um sistema que verifique se a altura inserida é\n",
        "par ou impar.\n",
        "4. Faça um script que você coloque a quantidade de dias e descubra em\n",
        "qual trimestre esse dia está no ano.\n",
        "5. Desenvolva um sistema que leia 3 números e diga qual é o maior (se\n",
        "houver empate, exiba os empatados).\n",
        "\n"
      ],
      "metadata": {
        "id": "_FlNKKtaRegU"
      }
    },
    {
      "cell_type": "code",
      "execution_count": 5,
      "metadata": {
        "colab": {
          "base_uri": "https://localhost:8080/"
        },
        "id": "QvxLK9aGRd8C",
        "outputId": "86209d38-883a-4d9c-cc9a-40a5ec2c6cf1"
      },
      "outputs": [
        {
          "output_type": "stream",
          "name": "stdout",
          "text": [
            "Nome do cliente: leo\n",
            "Insira o ano de nascimento do cliente: 1998\n",
            "Insira o ano atual: 2024\n",
            "Venda autorizada\n",
            "2024\n"
          ]
        }
      ],
      "source": [
        "# @title Exercício 1\n",
        "\n",
        "username = str(input('Nome do cliente: '))\n",
        "birthdate = int(input('Insira o ano de nascimento do cliente: '))\n",
        "actualyear = int(input('Insira o ano atual: '))\n",
        "\n",
        "if actualyear -  birthdate > 17 :\n",
        "  print('Venda autorizada')\n",
        "else:\n",
        "  print('Venda não autorizada para menor de 18 anos')\n",
        "\n",
        "print(actualyear)\n"
      ]
    },
    {
      "cell_type": "code",
      "source": [
        "# @title Exercício 2\n",
        "\n",
        "nota1 = float(input('Insira a nota da prova 1: '))\n",
        "nota2 = float(input('Insira a nota da prova 2: '))\n",
        "nota3 = float(input('Insira a nota da prova 3: '))\n",
        "\n",
        "media = (nota1+nota2+nota3)/3\n",
        "\n",
        "if media >= 8 :\n",
        "  print('Parabens, vc foi aprovado, sua nota foi: {:.2f}'.format(media))\n",
        "else :\n",
        "  print('Infelizmente, vc foi reprovado, sua nota foi: {:.2f}'.format(media))\n"
      ],
      "metadata": {
        "colab": {
          "base_uri": "https://localhost:8080/"
        },
        "id": "L04rQCE7TuRw",
        "outputId": "80068d1b-2863-4a3d-ec21-d9563f1d7bc1"
      },
      "execution_count": 10,
      "outputs": [
        {
          "output_type": "stream",
          "name": "stdout",
          "text": [
            "Insira a nota da prova 1: 9\n",
            "Insira a nota da prova 2: 9\n",
            "Insira a nota da prova 3: 10\n",
            "Parabens, vc foi aprovado, sua nota foi: 9.33\n"
          ]
        }
      ]
    },
    {
      "cell_type": "code",
      "source": [
        "# @title Exercício 3\n",
        "Num = float(input('Digite sua altura: '))\n",
        "\n",
        "if float(Num % 2) > 0 :\n",
        "  print('Esse valor é impar!')\n",
        "else :\n",
        "  print('Esse valor é par!')\n",
        "print(float(Num % 2))\n"
      ],
      "metadata": {
        "colab": {
          "base_uri": "https://localhost:8080/"
        },
        "id": "p-PHwxe5VSvc",
        "outputId": "43d274a1-f18f-46d7-acb5-0abaf2c7ee4f"
      },
      "execution_count": 34,
      "outputs": [
        {
          "output_type": "stream",
          "name": "stdout",
          "text": [
            "Digite sua altura: 112\n",
            "Esse valor é par!\n",
            "0.0\n"
          ]
        }
      ]
    },
    {
      "cell_type": "code",
      "source": [
        "# @title Exercício 4\n",
        "\n",
        "diadoano = int(input('Insira o dia do ano: '))\n",
        "\n",
        "if diadoano >= 1 and diadoano < 91 :\n",
        "  print('O dia {} pertence ao Trimestre 1'.format(diadoano))\n",
        "elif diadoano  >= 91 and diadoano < 181 :\n",
        "  print('O dia {} pertence ao Trimestre 2'.format(diadoano))\n",
        "elif diadoano >= 181 and diadoano < 271 :\n",
        "  print('O dia {} pertence ao Trimestre 3'.format(diadoano))\n",
        "elif diadoano >= 271 and diadoano < 367 :\n",
        "  print('O dia {} pertence ao Trimestre 4'.format(diadoano))\n",
        "else:\n",
        "  print('Insira um valor entre 1 e 366')\n"
      ],
      "metadata": {
        "colab": {
          "base_uri": "https://localhost:8080/"
        },
        "id": "68sJ8g_fX7Wi",
        "outputId": "0bfc764a-7ee2-44b3-8e78-4a01f52cff07"
      },
      "execution_count": 52,
      "outputs": [
        {
          "output_type": "stream",
          "name": "stdout",
          "text": [
            "Insira o dia do ano: 355\n",
            "O dia 355 pertence ao Trimestre 4\n"
          ]
        }
      ]
    },
    {
      "cell_type": "code",
      "source": [
        "# @title Exercício 5\n",
        "\n",
        "num1 = int(input('Insira o primeiro número: '))\n",
        "num2 = int(input('Insira o segundo número: '))\n",
        "num3 = int(input('Insira o terceiro número: '))\n",
        "\n",
        "if num1 > num2 and num1 > num3 :\n",
        "  print('O primeiro é o maior')\n",
        "elif num2 > num1 and num2 > num3 :\n",
        "  print('O segundo é o maior')\n",
        "elif num3 > num1 and num3 > num2 :\n",
        "  print('O terceiro é o maior')\n",
        "else:\n",
        "  print('Empate',num1, num2, num3)"
      ],
      "metadata": {
        "colab": {
          "base_uri": "https://localhost:8080/"
        },
        "id": "xu_DTGHiYJ_V",
        "outputId": "22be2b4b-d7c2-40ec-b549-8f4a2acb5b96"
      },
      "execution_count": 54,
      "outputs": [
        {
          "output_type": "stream",
          "name": "stdout",
          "text": [
            "Insira o primeiro número: 4\n",
            "Insira o segundo número: 4\n",
            "Insira o terceiro número: 4\n",
            "Empate 4 4 4\n",
            "4 4 4\n"
          ]
        }
      ]
    }
  ]
}